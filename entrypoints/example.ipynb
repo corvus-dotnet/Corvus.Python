{
 "cells": [
  {
   "cell_type": "code",
   "execution_count": null,
   "metadata": {},
   "outputs": [],
   "source": [
    "from corvus_python.pyspark.utilities import get_spark_utils\n",
    "\n",
    "spark_utils = get_spark_utils()\n",
    "\n",
    "cred = spark_utils.credentials.getSecretWithLS(\"KeyVault\", \"EnvironmentName\")\n",
    "\n",
    "print(cred)\n"
   ]
  }
 ],
 "metadata": {
  "kernelspec": {
   "display_name": ".venv",
   "language": "python",
   "name": "python3"
  },
  "language_info": {
   "codemirror_mode": {
    "name": "ipython",
    "version": 3
   },
   "file_extension": ".py",
   "mimetype": "text/x-python",
   "name": "python",
   "nbconvert_exporter": "python",
   "pygments_lexer": "ipython3",
   "version": "3.10.12"
  }
 },
 "nbformat": 4,
 "nbformat_minor": 2
}
