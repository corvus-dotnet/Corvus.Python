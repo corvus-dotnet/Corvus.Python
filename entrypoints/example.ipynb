{
 "cells": [
  {
   "cell_type": "code",
   "execution_count": 1,
   "metadata": {},
   "outputs": [],
   "source": [
    "%load_ext autoreload\n",
    "%autoreload 2\n",
    "\n",
    "from corvus_python.pyspark.utilities import get_spark_utils\n",
    "\n",
    "spark_utils = get_spark_utils()"
   ]
  },
  {
   "cell_type": "code",
   "execution_count": null,
   "metadata": {},
   "outputs": [],
   "source": [
    "cred = spark_utils.credentials.getSecretWithLS(\"KeyVault\", \"EnvironmentName\")\n",
    "\n",
    "print(cred)"
   ]
  },
  {
   "cell_type": "code",
   "execution_count": 2,
   "metadata": {},
   "outputs": [],
   "source": [
    "token = spark_utils.credentials.getToken(\"Synapse\")\n",
    "\n",
    "assert token"
   ]
  },
  {
   "cell_type": "code",
   "execution_count": null,
   "metadata": {},
   "outputs": [],
   "source": [
    "workspace_name = spark_utils.env.getWorkspaceName()\n",
    "\n",
    "print(workspace_name)"
   ]
  },
  {
   "cell_type": "code",
   "execution_count": null,
   "metadata": {},
   "outputs": [],
   "source": [
    "from corvus_python.pyspark.utilities import get_or_create_spark_session, LocalSparkSessionConfig\n",
    "\n",
    "spark = get_or_create_spark_session(LocalSparkSessionConfig(\"example\"))\n",
    "\n",
    "assert spark\n",
    "\n",
    "spark.stop()"
   ]
  }
 ],
 "metadata": {
  "kernelspec": {
   "display_name": ".venv",
   "language": "python",
   "name": "python3"
  },
  "language_info": {
   "codemirror_mode": {
    "name": "ipython",
    "version": 3
   },
   "file_extension": ".py",
   "mimetype": "text/x-python",
   "name": "python",
   "nbconvert_exporter": "python",
   "pygments_lexer": "ipython3",
   "version": "3.10.12"
  }
 },
 "nbformat": 4,
 "nbformat_minor": 2
}
